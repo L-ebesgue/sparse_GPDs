{
 "cells": [
  {
   "cell_type": "markdown",
   "metadata": {},
   "source": [
    "In this tutorial notebook, we focus on a specific example of a point cloud, to illustrate how to compute its GPDs using the provided code in the **utils.py** file."
   ]
  },
  {
   "cell_type": "markdown",
   "metadata": {},
   "source": [
    "We will show you how to:\n",
    "- **create** a bifiltration from a given point cloud\n",
    "- **generate a grid and a specific collection of intervals** on the grid\n",
    "- **compute Generalized Rank Invariants (GRIs)**, using boundary zigzag filtraions [(Dey, Kim, Memoli 2023)](https://link.springer.com/article/10.1007/s00454-023-00584-z)\n",
    "- **calculate the Möbius function** of the poset of intervals over which the GPDs are computed"
   ]
  },
  {
   "cell_type": "markdown",
   "metadata": {},
   "source": [
    "## Setup\n",
    "\n",
    "All the necessary code for computing GPDs is located in the utils.py file."
   ]
  },
  {
   "cell_type": "code",
   "execution_count": 2,
   "metadata": {},
   "outputs": [],
   "source": [
    "import utils\n",
    "import archive\n",
    "import numpy as np\n",
    "import matplotlib.pyplot as plt\n",
    "from multipers.data import noisy_annulus"
   ]
  },
  {
   "cell_type": "markdown",
   "metadata": {},
   "source": [
    "## Define a point cloud and create a bifiltration "
   ]
  },
  {
   "cell_type": "markdown",
   "metadata": {},
   "source": [
    "The following point cloud consists of 3 points on the annulus, and 2 points on the square. Any point cloud can be an input."
   ]
  },
  {
   "cell_type": "code",
   "execution_count": 3,
   "metadata": {},
   "outputs": [
    {
     "data": {
      "image/png": "[encoded data removed]",
      "text/plain": [
       "<Figure size 640x480 with 1 Axes>"
      ]
     },
     "metadata": {},
     "output_type": "display_data"
    }
   ],
   "source": [
    "X = noisy_annulus(n1=3, n2=2)\n",
    "plt.scatter(X[:,0], X[:,1], s=5, c='k');plt.gca().set_aspect(1);"
   ]
  },
  {
   "cell_type": "markdown",
   "metadata": {},
   "source": [
    "In what follows, we create a bifiltration over $\\mathbb{R}^2$ and sample 9 points that forms a 3x3 grid on the plane.\n",
    "\n",
    "**Note:** the first parameter of the bifiltration is the Rips parameter and the second parameter is the log value of codensity.\n",
    "\n",
    "For more details, refer to [Multipers documentation](https://www-sop.inria.fr/members/David.Loiseaux/doc/multipers/index.html)."
   ]
  },
  {
   "cell_type": "code",
   "execution_count": 4,
   "metadata": {},
   "outputs": [
    {
     "name": "stdout",
     "output_type": "stream",
     "text": [
      "[KeOps] Warning : Cuda libraries were not detected on the system or could not be loaded ; using cpu only mode\n",
      "x-coordinates of the grid are [0.         1.55207764 3.10415528]\n",
      "y-coordinates of the grid are [-0.44100055 -0.41997142 -0.39894228]\n"
     ]
    }
   ],
   "source": [
    "bifiltration = utils.get_bifiltration(X)\n",
    "\n",
    "grid = utils.get_grid(bifiltration, 3)\n",
    "\n",
    "print(f'x-coordinates of the grid are {grid[0]}')\n",
    "print(f'y-coordinates of the grid are {grid[1]}')"
   ]
  },
  {
   "cell_type": "markdown",
   "metadata": {},
   "source": [
    "Now, we generate all **(1, 1)**-intervals and **(2, 1)**-intervals on the grid. "
   ]
  },
  {
   "cell_type": "code",
   "execution_count": 5,
   "metadata": {},
   "outputs": [],
   "source": [
    "intervals = utils.get_int_2_1(grid)"
   ]
  },
  {
   "cell_type": "markdown",
   "metadata": {},
   "source": [
    "To employ the gradient descent method later, we need to ***vectorize*** each interval as follows:"
   ]
  },
  {
   "cell_type": "code",
   "execution_count": 6,
   "metadata": {},
   "outputs": [],
   "source": [
    "diff_x, diff_y = grid[0][1] - grid[0][0], grid[1][1] - grid[1][0]\n",
    "\n",
    "intv_to_vec = []\n",
    "for intv in intervals:\n",
    "    vector = []\n",
    "\n",
    "    if len(intv[0]) == 1:\n",
    "        vector += intv[0][0]\n",
    "        d, a = intv[1][0][0] - intv[0][0][0], intv[1][0][1] - intv[0][0][1]\n",
    "        vector += [a + diff_y, 0, 0, d + diff_x]\n",
    "    else:\n",
    "        vector += [intv[0][1][0], intv[0][0][1]]\n",
    "        a, b = intv[1][0][1] - intv[0][0][1], intv[0][1][0] - intv[0][0][0]\n",
    "        c, d = intv[0][0][1] - intv[0][1][1], intv[1][0][0] - intv[0][1][0]\n",
    "        vector += [a + diff_y, b, c, d + diff_x]\n",
    "\n",
    "    intv_to_vec.append(vector)"
   ]
  },
  {
   "cell_type": "markdown",
   "metadata": {},
   "source": [
    "For example, an interval *before* and *after* vectorization looks like:"
   ]
  },
  {
   "cell_type": "code",
   "execution_count": 7,
   "metadata": {},
   "outputs": [
    {
     "name": "stdout",
     "output_type": "stream",
     "text": [
      "([(np.float64(0.0), np.float64(-0.4410005538849897))], [(np.float64(0.0), np.float64(-0.4410005538849897))])\n"
     ]
    }
   ],
   "source": [
    "before = intervals[0]\n",
    "print(before)"
   ]
  },
  {
   "cell_type": "code",
   "execution_count": 8,
   "metadata": {},
   "outputs": [
    {
     "name": "stdout",
     "output_type": "stream",
     "text": [
      "[np.float64(0.0), np.float64(-0.4410005538849897), np.float64(0.02102913674177853), 0, 0, np.float64(1.5520776413916824)]\n"
     ]
    }
   ],
   "source": [
    "after = intv_to_vec[0]\n",
    "print(after)"
   ]
  },
  {
   "cell_type": "markdown",
   "metadata": {},
   "source": [
    " Then, by Theorem 3.12 in [this paper](https://link.springer.com/article/10.1007/s00454-023-00584-z), we can compute the generalized rank over each interval by counting the number of bars fully supported on its boundary zigzag module.\n",
    "\n",
    "For our experiments, we use only $d = 0, 1$.\n",
    "\n",
    "Note that the histogram below represents the distribution of GRI values."
   ]
  },
  {
   "cell_type": "code",
   "execution_count": 7,
   "metadata": {},
   "outputs": [
    {
     "data": {
      "image/png": "[encoded data removed]",
      "text/plain": [
       "<Figure size 640x480 with 1 Axes>"
      ]
     },
     "metadata": {},
     "output_type": "display_data"
    }
   ],
   "source": [
    "bifil_on_intervals = utils.get_bifil_on_intervals(bifiltration, intv_to_vec)\n",
    "\n",
    "GRIs = []\n",
    "for intv in intv_to_vec:\n",
    "    ZZ_persistence = utils.get_ZZpersistence(bifil_on_intervals, intv, dimension=1)\n",
    "    gri = utils.count_fullbar(ZZ_persistence)\n",
    "    GRIs.append(gri)\n",
    "\n",
    "plt.hist(GRIs)\n",
    "plt.show()"
   ]
  },
  {
   "cell_type": "markdown",
   "metadata": {},
   "source": [
    "Simply using the *GRI* function, you can repeat the same process:"
   ]
  },
  {
   "cell_type": "code",
   "execution_count": 8,
   "metadata": {},
   "outputs": [
    {
     "data": {
      "image/png": "[encoded data removed]",
      "text/plain": [
       "<Figure size 640x480 with 1 Axes>"
      ]
     },
     "metadata": {},
     "output_type": "display_data"
    }
   ],
   "source": [
    "GRIs = []\n",
    "for intv in intv_to_vec:\n",
    "    GRIs.append(utils.GRI(bifil_on_intervals, intv, dimension=1))\n",
    "\n",
    "plt.hist(GRIs)\n",
    "plt.show()"
   ]
  },
  {
   "cell_type": "markdown",
   "metadata": {},
   "source": [
    "Next, we calculate the Möbius function of the poset of intervals."
   ]
  },
  {
   "cell_type": "code",
   "execution_count": 9,
   "metadata": {},
   "outputs": [],
   "source": [
    "mobius_matrix = utils.mobius_matrix(intv_to_vec)"
   ]
  },
  {
   "cell_type": "markdown",
   "metadata": {},
   "source": [
    "Finally, we obtain generlized persistence diagrams (GPDs) by computing the Möbius inversion of GRIs.\n",
    "\n",
    "For the definition of GPDs, refer to [this paper](https://www.ams.org/journals/notices/202308/noti2761/noti2761.html).\n",
    "\n",
    "Note that in this case, the GPDs are computed over only ***(1, 1)***-intervals and ***(1, 2)***-intervals of the grid, not ***all*** intervals.\n",
    "\n",
    "One can see the distribution of GPD values as shown in the following figure. "
   ]
  },
  {
   "cell_type": "code",
   "execution_count": 10,
   "metadata": {},
   "outputs": [
    {
     "data": {
      "image/png": "[encoded data removed]",
      "text/plain": [
       "<Figure size 640x480 with 1 Axes>"
      ]
     },
     "metadata": {},
     "output_type": "display_data"
    }
   ],
   "source": [
    "GRIs = np.array(GRIs)\n",
    "\n",
    "GPDs = np.matmul(mobius_matrix, GRIs)\n",
    "\n",
    "plt.hist(GPDs)\n",
    "plt.show()"
   ]
  },
  {
   "cell_type": "markdown",
   "metadata": {},
   "source": [
    "Or with the *GPD* function, you can calculate the GPDs much easily.\n",
    "\n",
    "**Caution:** for technical issues related to torch.Tensor, the *GPD* function contains the following code block:\n",
    "```\n",
    "intervals = intervals.tolist()\n",
    "```\n",
    "Thus, if you work with torch.Tensor, please activate this code block before running the *GPD* function."
   ]
  },
  {
   "cell_type": "code",
   "execution_count": 12,
   "metadata": {},
   "outputs": [
    {
     "data": {
      "image/png": "[encoded data removed]",
      "text/plain": [
       "<Figure size 640x480 with 1 Axes>"
      ]
     },
     "metadata": {},
     "output_type": "display_data"
    }
   ],
   "source": [
    "GPDs = utils.GPD(bifiltration, intv_to_vec, dimension=1)\n",
    "\n",
    "plt.hist(GPDs.values())\n",
    "plt.show()"
   ]
  },
  {
   "cell_type": "markdown",
   "metadata": {},
   "source": [
    "## An example of the GPDs containing negative values"
   ]
  },
  {
   "cell_type": "code",
   "execution_count": 2,
   "metadata": {},
   "outputs": [],
   "source": [
    "grid = [[0, 1, 2], [0, 1, 2]]\n",
    "\n",
    "bifil_on_grid = {(0, 0): [], (0, 1): [], (0, 2): [(1,)],\n",
    "                 (1, 0): [], (1, 1): [(2,)], (1, 2): [(1,), (2,)],\n",
    "                 (2, 0): [], (2, 1): [(2,)], (2, 2): [(1,), (2,), (1, 2)]}"
   ]
  },
  {
   "attachments": {
    "image.png": {
     "image/png": "[encoded data removed]"
    }
   },
   "cell_type": "markdown",
   "metadata": {},
   "source": [
    "![image.png](attachment:image.png)"
   ]
  },
  {
   "cell_type": "code",
   "execution_count": 21,
   "metadata": {},
   "outputs": [
    {
     "data": {
      "image/png": "[encoded data removed]",
      "text/plain": [
       "<Figure size 640x480 with 1 Axes>"
      ]
     },
     "metadata": {},
     "output_type": "display_data"
    }
   ],
   "source": [
    "intervals = utils.get_int_2_1(grid)\n",
    "\n",
    "GRIs = []\n",
    "for intv in intervals:\n",
    "    ZZ_persistence = archive.get_ZZpersistence(bifil_on_grid, intv, dimension=0)\n",
    "    gri = archive.count_fullbar(ZZ_persistence)\n",
    "    GRIs.append(gri)\n",
    "\n",
    "mobius_matrix = archive.mobius_matrix(intervals)\n",
    "\n",
    "GRIs = np.array(GRIs)\n",
    "\n",
    "GPDs = np.matmul(mobius_matrix, GRIs)\n",
    "\n",
    "plt.hist(GPDs)\n",
    "plt.show()"
   ]
  },
  {
   "cell_type": "code",
   "execution_count": 22,
   "metadata": {},
   "outputs": [
    {
     "name": "stdout",
     "output_type": "stream",
     "text": [
      "1 5 ([(1, 2)], [(1, 2)])\n",
      "1 31 ([(1, 1)], [(2, 2)])\n",
      "1 47 ([(0, 2), (2, 1)], [(2, 2)])\n",
      "-1 51 ([(1, 2), (2, 1)], [(2, 2)])\n"
     ]
    }
   ],
   "source": [
    "for index, gpd in enumerate(GPDs):\n",
    "    if gpd:\n",
    "        print(gpd, index, intervals[index])"
   ]
  },
  {
   "cell_type": "code",
   "execution_count": 3,
   "metadata": {},
   "outputs": [],
   "source": [
    "intervals = utils.get_int_2_1(grid)\n",
    "\n",
    "# mobius_matrix = archive.mobius_matrix(intervals)\n",
    "\n",
    "intv_to_vec = []\n",
    "\n",
    "diff_x, diff_y = grid[0][1] - grid[0][0], grid[1][1] - grid[1][0]\n",
    "for intv in intervals:\n",
    "    # GRIs.append(GRI(bifil_on_grid, intv, dimension))\n",
    "    vector = []\n",
    "\n",
    "    if len(intv[0]) == 1:\n",
    "        vector += intv[0][0]\n",
    "        d, a = intv[1][0][0] - intv[0][0][0], intv[1][0][1] - intv[0][0][1]\n",
    "        vector += [a + diff_y, 0, 0, d + diff_x]\n",
    "    else:\n",
    "        vector += [intv[0][1][0], intv[0][0][1]]\n",
    "        a, b = intv[1][0][1] - intv[0][0][1], intv[0][1][0] - intv[0][0][0]\n",
    "        c, d = intv[0][0][1] - intv[0][1][1], intv[1][0][0]- intv[0][1][0]\n",
    "        vector += [a + diff_y, b, c, d + diff_x]\n",
    "\n",
    "    intv_to_vec.append(vector)\n",
    "\n",
    "# GPDs = {tuple(intv): gpd for intv, gpd in zip(intv_to_vec, np.matmul(mobius_matrix, GRIs))}"
   ]
  },
  {
   "cell_type": "code",
   "execution_count": 7,
   "metadata": {},
   "outputs": [],
   "source": [
    "bifiltration = [((1,), (0, 2)), ((2,), (1, 1)), ((1, 2), (2, 2))]"
   ]
  },
  {
   "cell_type": "code",
   "execution_count": 8,
   "metadata": {},
   "outputs": [],
   "source": [
    "intervals = intv_to_vec"
   ]
  },
  {
   "cell_type": "code",
   "execution_count": 9,
   "metadata": {},
   "outputs": [
    {
     "name": "stdout",
     "output_type": "stream",
     "text": [
      "(1, 1, 2, 0, 0, 2) 1\n",
      "(2, 2, 1, 2, 1, 1) 1\n",
      "(2, 2, 1, 1, 1, 1) -1\n"
     ]
    }
   ],
   "source": [
    "GPDs = utils.GPD(bifiltration, intervals)\n",
    "\n",
    "for interval, value in GPDs.items():\n",
    "    if value:\n",
    "        print(interval, value)"
   ]
  },
  {
   "cell_type": "code",
   "execution_count": 10,
   "metadata": {},
   "outputs": [
    {
     "data": {
      "image/png": "[encoded data removed]",
      "text/plain": [
       "<Figure size 640x480 with 1 Axes>"
      ]
     },
     "metadata": {},
     "output_type": "display_data"
    }
   ],
   "source": [
    "plt.hist(GPDs.values())\n",
    "plt.show()"
   ]
  },
  {
   "cell_type": "code",
   "execution_count": 12,
   "metadata": {},
   "outputs": [],
   "source": [
    "intervals = [[0, 0, 1, 0, 0, 1], [-0.5, -0.7, 2, 0, 0, 2], [0, 0, 1, 0, 0, 3], [0, 0, 3, 0, 0, 1],\n",
    "              [3.1, 3.8, 1, 0, 0, 1], [3, 3, 1.2, 1.3, 1.3, 1.3], [-1, -1, 10.7, 0, 0, 11.5]]"
   ]
  },
  {
   "cell_type": "code",
   "execution_count": 13,
   "metadata": {},
   "outputs": [
    {
     "name": "stdout",
     "output_type": "stream",
     "text": [
      "(3.1, 3.8, 1, 0, 0, 1) 1\n",
      "(3, 3, 1.2, 1.3, 1.3, 1.3) 1\n"
     ]
    },
    {
     "data": {
      "image/png": "[encoded data removed]",
      "text/plain": [
       "<Figure size 640x480 with 1 Axes>"
      ]
     },
     "metadata": {},
     "output_type": "display_data"
    }
   ],
   "source": [
    "GPDs = utils.GPD(bifiltration, intervals)\n",
    "\n",
    "for interval, value in GPDs.items():\n",
    "    if value:\n",
    "        print(interval, value)\n",
    "\n",
    "plt.hist(GPDs.values())\n",
    "plt.show()"
   ]
  },
  {
   "cell_type": "code",
   "execution_count": null,
   "metadata": {},
   "outputs": [],
   "source": []
  },
  {
   "cell_type": "code",
   "execution_count": 15,
   "metadata": {},
   "outputs": [
    {
     "name": "stdout",
     "output_type": "stream",
     "text": [
      "[1, 1, 1, 1, 0, 0, 1]\n",
      "[0, 1, 0, 0, 0, 0, 1]\n",
      "[0, 0, 1, 0, 0, 0, 1]\n",
      "[0, 0, 0, 1, 0, 0, 1]\n",
      "[0, 0, 0, 0, 1, 1, 1]\n",
      "[0, 0, 0, 0, 0, 1, 1]\n",
      "[0, 0, 0, 0, 0, 0, 1]\n"
     ]
    }
   ],
   "source": [
    "poset = utils.generate_poset(intervals)\n",
    "\n",
    "for i in poset:\n",
    "    print(i)"
   ]
  },
  {
   "cell_type": "code",
   "execution_count": 17,
   "metadata": {},
   "outputs": [],
   "source": [
    "tree = utils.generate_tree(intervals, poset)"
   ]
  },
  {
   "cell_type": "code",
   "execution_count": 18,
   "metadata": {},
   "outputs": [
    {
     "name": "stdout",
     "output_type": "stream",
     "text": [
      "[[], [1, 2, 3]]\n",
      "[[0], [6]]\n",
      "[[0], [6]]\n",
      "[[0], [6]]\n",
      "[[], [5]]\n",
      "[[4], [6]]\n",
      "[[1, 2, 3, 5], []]\n"
     ]
    }
   ],
   "source": [
    "for i in tree:\n",
    "    print(i)"
   ]
  },
  {
   "cell_type": "code",
   "execution_count": 19,
   "metadata": {},
   "outputs": [
    {
     "name": "stdout",
     "output_type": "stream",
     "text": [
      "[1, -1, -1, -1, 0, 0, 2]\n",
      "[0, 1, 0, 0, 0, 0, -1]\n",
      "[0, 0, 1, 0, 0, 0, -1]\n",
      "[0, 0, 0, 1, 0, 0, -1]\n",
      "[0, 0, 0, 0, 1, -1, 0]\n",
      "[0, 0, 0, 0, 0, 1, -1]\n",
      "[0, 0, 0, 0, 0, 0, 1]\n"
     ]
    }
   ],
   "source": [
    "mu = utils.mobius_matrix(intervals)\n",
    "\n",
    "for i in mu:\n",
    "    print(i)"
   ]
  }
 ],
 "metadata": {
  "kernelspec": {
   "display_name": "comGPD",
   "language": "python",
   "name": "python3"
  },
  "language_info": {
   "codemirror_mode": {
    "name": "ipython",
    "version": 3
   },
   "file_extension": ".py",
   "mimetype": "text/x-python",
   "name": "python",
   "nbconvert_exporter": "python",
   "pygments_lexer": "ipython3",
   "version": "3.11.9"
  }
 },
 "nbformat": 4,
 "nbformat_minor": 2
}
