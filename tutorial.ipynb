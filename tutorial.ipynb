{
 "cells": [
  {
   "cell_type": "markdown",
   "metadata": {},
   "source": [
    "In this tutorial notebook, we focus on a specific example of a point cloud, to illustrate how to compute its GPDs using the provided code in the **utils.py** file."
   ]
  },
  {
   "cell_type": "markdown",
   "metadata": {},
   "source": [
    "I will show you how to:\n",
    "- **create** a bifiltration from a given point cloud\n",
    "- **generate a grid and a specific collection of intervals** on the grid\n",
    "- **compute GRIs** with boundary zigzag filtration\n",
    "- **calculate Möbius function** on the collection of intervals, which yield GPDs"
   ]
  },
  {
   "cell_type": "markdown",
   "metadata": {},
   "source": [
    "## Setup\n",
    "\n",
    "All the necessary code to compute GPDs can be found in the utils.py file."
   ]
  },
  {
   "cell_type": "code",
   "execution_count": 1,
   "metadata": {},
   "outputs": [],
   "source": [
    "import utils\n",
    "import numpy as np\n",
    "import matplotlib.pyplot as plt\n",
    "from multipers.data import noisy_annulus"
   ]
  },
  {
   "cell_type": "markdown",
   "metadata": {},
   "source": [
    "## Define a point cloud and create a bifiltration "
   ]
  },
  {
   "cell_type": "markdown",
   "metadata": {},
   "source": [
    "We will work with the following point cloud. Feel free to consider your own point cloud."
   ]
  },
  {
   "cell_type": "code",
   "execution_count": 10,
   "metadata": {},
   "outputs": [
    {
     "data": {
      "image/png": "[encoded data removed]",
      "text/plain": [
       "<Figure size 640x480 with 1 Axes>"
      ]
     },
     "metadata": {},
     "output_type": "display_data"
    }
   ],
   "source": [
    "X = noisy_annulus(n1=3, n2=2)\n",
    "plt.scatter(X[:,0], X[:,1], s=5, c='k');plt.gca().set_aspect(1);"
   ]
  },
  {
   "cell_type": "markdown",
   "metadata": {},
   "source": [
    "In what follows, we create a bifiltration and 3x3 2D grid.\n",
    "\n",
    "**Note:** the first parameter of the bifiltration is a rips and the second parameter is the log value of codensity.\n",
    "\n",
    "For more details, refer to [Multipers documentation](https://www-sop.inria.fr/members/David.Loiseaux/doc/multipers/index.html)"
   ]
  },
  {
   "cell_type": "code",
   "execution_count": 11,
   "metadata": {},
   "outputs": [
    {
     "name": "stdout",
     "output_type": "stream",
     "text": [
      "x-coordinates of the grid are [0.         1.76524892 3.53049784]\n",
      "y-coordinates of the grid are [-0.3992636  -0.39910294 -0.39894228]\n"
     ]
    }
   ],
   "source": [
    "bifiltration = utils.get_bifiltration(X)\n",
    "\n",
    "grid = utils.get_grid(bifiltration, 3)\n",
    "\n",
    "print(f'x-coordinates of the grid are {grid[0]}')\n",
    "print(f'y-coordinates of the grid are {grid[1]}')"
   ]
  },
  {
   "cell_type": "markdown",
   "metadata": {},
   "source": [
    "We will describe the bifiltration at every point in the grid. "
   ]
  },
  {
   "cell_type": "code",
   "execution_count": 14,
   "metadata": {},
   "outputs": [],
   "source": [
    "bifil_on_grid = utils.get_bifiltration_on_grid(bifiltration, grid)"
   ]
  },
  {
   "cell_type": "markdown",
   "metadata": {},
   "source": [
    "Now, we will generate all (1, 1)-intervals and (2, 1)-intervals on the grid. \n",
    "\n",
    "Then, we will compute the generalized rank (GRI) over each interval by counting the number of bars fully supported on its boundary zigzag module. For more details, refer to [this paper](https://link.springer.com/article/10.1007/s00454-023-00584-z)\n",
    "\n",
    "Note that the implementation works for d-dimension with $d = 0, 1$."
   ]
  },
  {
   "cell_type": "code",
   "execution_count": 17,
   "metadata": {},
   "outputs": [
    {
     "data": {
      "image/png": "[encoded data removed]",
      "text/plain": [
       "<Figure size 640x480 with 1 Axes>"
      ]
     },
     "metadata": {},
     "output_type": "display_data"
    }
   ],
   "source": [
    "intervals = utils.get_int_2_1(grid)\n",
    "\n",
    "GRIs = []\n",
    "for intv in intervals:\n",
    "    ZZ_persistence = utils.get_ZZpersistence(bifil_on_grid, intv, dimension=1)\n",
    "    gri = utils.count_fullbar(ZZ_persistence)\n",
    "    GRIs.append(gri)\n",
    "\n",
    "plt.hist(GRIs)\n",
    "plt.show()"
   ]
  },
  {
   "cell_type": "markdown",
   "metadata": {},
   "source": [
    "Next, we will calculate Möbius function on the collection of intervals."
   ]
  },
  {
   "cell_type": "code",
   "execution_count": 18,
   "metadata": {},
   "outputs": [],
   "source": [
    "mobius_matrix = utils.mobius_matrix(intervals)"
   ]
  },
  {
   "cell_type": "markdown",
   "metadata": {},
   "source": [
    "Finally, we will evaluate generlized persistence diagrams (GPDs) with the provided GRIs and the values of Möbius function.\n",
    "\n",
    "For exact definition of GPDs, refer to [this paper](https://www.ams.org/journals/notices/202308/noti2761/noti2761.html).\n",
    "\n",
    "Note that the GPDs is determined on only (1, 1)-intervals and (1, 2)-intervals of the grid, not ***all*** intervals."
   ]
  },
  {
   "cell_type": "code",
   "execution_count": 19,
   "metadata": {},
   "outputs": [
    {
     "data": {
      "image/png": "[encoded data removed]",
      "text/plain": [
       "<Figure size 640x480 with 1 Axes>"
      ]
     },
     "metadata": {},
     "output_type": "display_data"
    }
   ],
   "source": [
    "GRIs = np.array(GRIs)\n",
    "\n",
    "GPDs = np.matmul(mobius_matrix, GRIs)\n",
    "\n",
    "plt.hist(GPDs)\n",
    "plt.show()"
   ]
  }
 ],
 "metadata": {
  "kernelspec": {
   "display_name": "comGPD",
   "language": "python",
   "name": "python3"
  },
  "language_info": {
   "codemirror_mode": {
    "name": "ipython",
    "version": 3
   },
   "file_extension": ".py",
   "mimetype": "text/x-python",
   "name": "python",
   "nbconvert_exporter": "python",
   "pygments_lexer": "ipython3",
   "version": "3.11.9"
  }
 },
 "nbformat": 4,
 "nbformat_minor": 2
}
